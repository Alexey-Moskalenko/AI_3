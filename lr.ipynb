{
 "cells": [
  {
   "cell_type": "markdown",
   "metadata": {},
   "source": [
    "### Москалекно Алексей Сергеевич\n",
    "M8O-307Б-17, №16 по списку\n",
    "asm1999mos@yandex.ru"
   ]
  },
  {
   "cell_type": "markdown",
   "metadata": {},
   "source": [
    "### Задание\n",
    "В данной лабораторной работе вам предстоит научиться генерировать последовательности типа, заданного по варианту, с помощью рекуррентных нейронных сетей. Необходимо исследовать несколько различных нейросетевых архитектур:\n",
    "\n",
    "Обычная полносвязная RNN\n",
    "\n",
    "Однослойная LSTM\n",
    "\n",
    "Двухслойная LSTM\n",
    "\n",
    "Однослойный GRU\n",
    "#### Вариант №4:\n",
    "Проза на английском языке, элемент последовательности - одно слово."
   ]
  },
  {
   "cell_type": "code",
   "execution_count": 6,
   "metadata": {},
   "outputs": [
    {
     "name": "stdout",
     "output_type": "stream",
     "text": [
      "Collecting gensim\n",
      "  Downloading gensim-3.8.3-cp38-cp38-macosx_10_9_x86_64.whl (24.2 MB)\n",
      "\u001b[K     |████████████████████████████████| 24.2 MB 3.4 MB/s eta 0:00:01\n",
      "\u001b[?25hRequirement already satisfied, skipping upgrade: six>=1.5.0 in /usr/local/lib/python3.8/site-packages (from gensim) (1.15.0)\n",
      "Requirement already satisfied, skipping upgrade: numpy>=1.11.3 in /usr/local/lib/python3.8/site-packages (from gensim) (1.18.5)\n",
      "Requirement already satisfied, skipping upgrade: scipy>=0.18.1 in /usr/local/lib/python3.8/site-packages (from gensim) (1.4.1)\n",
      "Collecting smart-open>=1.8.1\n",
      "  Downloading smart_open-3.0.0.tar.gz (113 kB)\n",
      "\u001b[K     |████████████████████████████████| 113 kB 3.8 MB/s eta 0:00:01\n",
      "\u001b[?25hRequirement already satisfied, skipping upgrade: requests in /usr/local/lib/python3.8/site-packages (from smart-open>=1.8.1->gensim) (2.24.0)\n",
      "Requirement already satisfied, skipping upgrade: idna<3,>=2.5 in /usr/local/lib/python3.8/site-packages (from requests->smart-open>=1.8.1->gensim) (2.10)\n",
      "Requirement already satisfied, skipping upgrade: certifi>=2017.4.17 in /usr/local/lib/python3.8/site-packages (from requests->smart-open>=1.8.1->gensim) (2020.6.20)\n",
      "Requirement already satisfied, skipping upgrade: urllib3!=1.25.0,!=1.25.1,<1.26,>=1.21.1 in /usr/local/lib/python3.8/site-packages (from requests->smart-open>=1.8.1->gensim) (1.25.10)\n",
      "Requirement already satisfied, skipping upgrade: chardet<4,>=3.0.2 in /usr/local/lib/python3.8/site-packages (from requests->smart-open>=1.8.1->gensim) (3.0.4)\n",
      "Building wheels for collected packages: smart-open\n",
      "  Building wheel for smart-open (setup.py) ... \u001b[?25ldone\n",
      "\u001b[?25h  Created wheel for smart-open: filename=smart_open-3.0.0-py3-none-any.whl size=107097 sha256=72ee85328b588c480ffac5432afb71d7a6fc7cde0045dad4d22b34207c1725f9\n",
      "  Stored in directory: /Users/dmitry/Library/Caches/pip/wheels/11/73/9a/f91ac1f1816436b16423617c5be5db048697ff152a9c4346f2\n",
      "Successfully built smart-open\n",
      "Installing collected packages: smart-open, gensim\n",
      "Successfully installed gensim-3.8.3 smart-open-3.0.0\n",
      "Note: you may need to restart the kernel to use updated packages.\n"
     ]
    }
   ],
   "source": [
    "pip install -U gensim"
   ]
  },
  {
   "cell_type": "code",
   "execution_count": 11,
   "metadata": {},
   "outputs": [
    {
     "name": "stdout",
     "output_type": "stream",
     "text": [
      "Collecting tqdm\n",
      "  Downloading tqdm-4.51.0-py2.py3-none-any.whl (70 kB)\n",
      "\u001b[K     |████████████████████████████████| 70 kB 692 kB/s eta 0:00:01\n",
      "\u001b[?25hInstalling collected packages: tqdm\n",
      "Successfully installed tqdm-4.51.0\n",
      "Note: you may need to restart the kernel to use updated packages.\n"
     ]
    }
   ],
   "source": [
    "pip install tqdm"
   ]
  },
  {
   "cell_type": "code",
   "execution_count": 13,
   "metadata": {},
   "outputs": [
    {
     "name": "stdout",
     "output_type": "stream",
     "text": [
      "Collecting nltk\n",
      "  Downloading nltk-3.5.zip (1.4 MB)\n",
      "\u001b[K     |████████████████████████████████| 1.4 MB 771 kB/s eta 0:00:01\n",
      "\u001b[?25hCollecting click\n",
      "  Downloading click-7.1.2-py2.py3-none-any.whl (82 kB)\n",
      "\u001b[K     |████████████████████████████████| 82 kB 1.7 MB/s eta 0:00:01\n",
      "\u001b[?25hRequirement already satisfied: joblib in /usr/local/lib/python3.8/site-packages (from nltk) (0.17.0)\n",
      "Collecting regex\n",
      "  Downloading regex-2020.10.28.tar.gz (694 kB)\n",
      "\u001b[K     |████████████████████████████████| 694 kB 1.3 MB/s eta 0:00:01\n",
      "\u001b[?25hRequirement already satisfied: tqdm in /usr/local/lib/python3.8/site-packages (from nltk) (4.51.0)\n",
      "Building wheels for collected packages: nltk, regex\n",
      "  Building wheel for nltk (setup.py) ... \u001b[?25ldone\n",
      "\u001b[?25h  Created wheel for nltk: filename=nltk-3.5-py3-none-any.whl size=1434680 sha256=bd726441026e008a7540bf8d7a318569e856ec5683f43a396a7ffed998d258db\n",
      "  Stored in directory: /Users/dmitry/Library/Caches/pip/wheels/ff/d5/7b/f1fb4e1e1603b2f01c2424dd60fbcc50c12ef918bafc44b155\n",
      "  Building wheel for regex (setup.py) ... \u001b[?25ldone\n",
      "\u001b[?25h  Created wheel for regex: filename=regex-2020.10.28-cp38-cp38-macosx_10_15_x86_64.whl size=288087 sha256=b1ec49681e907d9cd8471c1d76d67cce8047e28b6e8c84d9a21e3aafdcfa5a11\n",
      "  Stored in directory: /Users/dmitry/Library/Caches/pip/wheels/a8/b7/89/44f9875bb8cd4bbb77cbdf7409974126822b0ea38e461ea45f\n",
      "Successfully built nltk regex\n",
      "Installing collected packages: click, regex, nltk\n",
      "Successfully installed click-7.1.2 nltk-3.5 regex-2020.10.28\n",
      "Note: you may need to restart the kernel to use updated packages.\n"
     ]
    }
   ],
   "source": [
    "pip install nltk"
   ]
  },
  {
   "cell_type": "code",
   "execution_count": 28,
   "metadata": {},
   "outputs": [
    {
     "name": "stderr",
     "output_type": "stream",
     "text": [
      "[nltk_data] Downloading collection 'all'\n",
      "[nltk_data]    | \n",
      "[nltk_data]    | Downloading package abc to /Users/dmitry/nltk_data...\n",
      "[nltk_data]    |   Package abc is already up-to-date!\n",
      "[nltk_data]    | Downloading package alpino to\n",
      "[nltk_data]    |     /Users/dmitry/nltk_data...\n",
      "[nltk_data]    |   Package alpino is already up-to-date!\n",
      "[nltk_data]    | Downloading package biocreative_ppi to\n",
      "[nltk_data]    |     /Users/dmitry/nltk_data...\n",
      "[nltk_data]    |   Package biocreative_ppi is already up-to-date!\n",
      "[nltk_data]    | Downloading package brown to\n",
      "[nltk_data]    |     /Users/dmitry/nltk_data...\n",
      "[nltk_data]    |   Package brown is already up-to-date!\n",
      "[nltk_data]    | Downloading package brown_tei to\n",
      "[nltk_data]    |     /Users/dmitry/nltk_data...\n",
      "[nltk_data]    |   Package brown_tei is already up-to-date!\n",
      "[nltk_data]    | Downloading package cess_cat to\n",
      "[nltk_data]    |     /Users/dmitry/nltk_data...\n",
      "[nltk_data]    |   Package cess_cat is already up-to-date!\n",
      "[nltk_data]    | Downloading package cess_esp to\n",
      "[nltk_data]    |     /Users/dmitry/nltk_data...\n",
      "[nltk_data]    |   Package cess_esp is already up-to-date!\n",
      "[nltk_data]    | Downloading package chat80 to\n",
      "[nltk_data]    |     /Users/dmitry/nltk_data...\n",
      "[nltk_data]    |   Package chat80 is already up-to-date!\n",
      "[nltk_data]    | Downloading package city_database to\n",
      "[nltk_data]    |     /Users/dmitry/nltk_data...\n",
      "[nltk_data]    |   Package city_database is already up-to-date!\n",
      "[nltk_data]    | Downloading package cmudict to\n",
      "[nltk_data]    |     /Users/dmitry/nltk_data...\n",
      "[nltk_data]    |   Package cmudict is already up-to-date!\n",
      "[nltk_data]    | Downloading package comparative_sentences to\n",
      "[nltk_data]    |     /Users/dmitry/nltk_data...\n",
      "[nltk_data]    |   Package comparative_sentences is already up-to-\n",
      "[nltk_data]    |       date!\n",
      "[nltk_data]    | Downloading package comtrans to\n",
      "[nltk_data]    |     /Users/dmitry/nltk_data...\n",
      "[nltk_data]    |   Package comtrans is already up-to-date!\n",
      "[nltk_data]    | Downloading package conll2000 to\n",
      "[nltk_data]    |     /Users/dmitry/nltk_data...\n",
      "[nltk_data]    |   Package conll2000 is already up-to-date!\n",
      "[nltk_data]    | Downloading package conll2002 to\n",
      "[nltk_data]    |     /Users/dmitry/nltk_data...\n",
      "[nltk_data]    |   Package conll2002 is already up-to-date!\n",
      "[nltk_data]    | Downloading package conll2007 to\n",
      "[nltk_data]    |     /Users/dmitry/nltk_data...\n",
      "[nltk_data]    |   Package conll2007 is already up-to-date!\n",
      "[nltk_data]    | Downloading package crubadan to\n",
      "[nltk_data]    |     /Users/dmitry/nltk_data...\n",
      "[nltk_data]    |   Package crubadan is already up-to-date!\n",
      "[nltk_data]    | Downloading package dependency_treebank to\n",
      "[nltk_data]    |     /Users/dmitry/nltk_data...\n",
      "[nltk_data]    |   Package dependency_treebank is already up-to-date!\n",
      "[nltk_data]    | Downloading package dolch to\n",
      "[nltk_data]    |     /Users/dmitry/nltk_data...\n",
      "[nltk_data]    |   Package dolch is already up-to-date!\n",
      "[nltk_data]    | Downloading package europarl_raw to\n",
      "[nltk_data]    |     /Users/dmitry/nltk_data...\n",
      "[nltk_data]    |   Package europarl_raw is already up-to-date!\n",
      "[nltk_data]    | Downloading package floresta to\n",
      "[nltk_data]    |     /Users/dmitry/nltk_data...\n",
      "[nltk_data]    |   Package floresta is already up-to-date!\n",
      "[nltk_data]    | Downloading package framenet_v15 to\n",
      "[nltk_data]    |     /Users/dmitry/nltk_data...\n",
      "[nltk_data]    |   Package framenet_v15 is already up-to-date!\n",
      "[nltk_data]    | Downloading package framenet_v17 to\n",
      "[nltk_data]    |     /Users/dmitry/nltk_data...\n",
      "[nltk_data]    |   Package framenet_v17 is already up-to-date!\n",
      "[nltk_data]    | Downloading package gazetteers to\n",
      "[nltk_data]    |     /Users/dmitry/nltk_data...\n",
      "[nltk_data]    |   Package gazetteers is already up-to-date!\n",
      "[nltk_data]    | Downloading package genesis to\n",
      "[nltk_data]    |     /Users/dmitry/nltk_data...\n",
      "[nltk_data]    |   Package genesis is already up-to-date!\n",
      "[nltk_data]    | Downloading package gutenberg to\n",
      "[nltk_data]    |     /Users/dmitry/nltk_data...\n",
      "[nltk_data]    |   Package gutenberg is already up-to-date!\n",
      "[nltk_data]    | Downloading package ieer to\n",
      "[nltk_data]    |     /Users/dmitry/nltk_data...\n",
      "[nltk_data]    |   Package ieer is already up-to-date!\n",
      "[nltk_data]    | Downloading package inaugural to\n",
      "[nltk_data]    |     /Users/dmitry/nltk_data...\n",
      "[nltk_data]    |   Package inaugural is already up-to-date!\n",
      "[nltk_data]    | Downloading package indian to\n",
      "[nltk_data]    |     /Users/dmitry/nltk_data...\n",
      "[nltk_data]    |   Package indian is already up-to-date!\n",
      "[nltk_data]    | Downloading package jeita to\n",
      "[nltk_data]    |     /Users/dmitry/nltk_data...\n",
      "[nltk_data]    |   Package jeita is already up-to-date!\n",
      "[nltk_data]    | Downloading package kimmo to\n",
      "[nltk_data]    |     /Users/dmitry/nltk_data...\n",
      "[nltk_data]    |   Package kimmo is already up-to-date!\n",
      "[nltk_data]    | Downloading package knbc to\n",
      "[nltk_data]    |     /Users/dmitry/nltk_data...\n",
      "[nltk_data]    |   Package knbc is already up-to-date!\n",
      "[nltk_data]    | Downloading package lin_thesaurus to\n",
      "[nltk_data]    |     /Users/dmitry/nltk_data...\n",
      "[nltk_data]    |   Unzipping corpora/lin_thesaurus.zip.\n",
      "[nltk_data]    | Downloading package mac_morpho to\n",
      "[nltk_data]    |     /Users/dmitry/nltk_data...\n",
      "[nltk_data]    |   Unzipping corpora/mac_morpho.zip.\n",
      "[nltk_data]    | Downloading package machado to\n",
      "[nltk_data]    |     /Users/dmitry/nltk_data...\n",
      "[nltk_data]    | Downloading package masc_tagged to\n",
      "[nltk_data]    |     /Users/dmitry/nltk_data...\n",
      "[nltk_data]    | Downloading package moses_sample to\n",
      "[nltk_data]    |     /Users/dmitry/nltk_data...\n",
      "[nltk_data]    |   Unzipping models/moses_sample.zip.\n",
      "[nltk_data]    | Downloading package movie_reviews to\n",
      "[nltk_data]    |     /Users/dmitry/nltk_data...\n",
      "[nltk_data]    |   Unzipping corpora/movie_reviews.zip.\n",
      "[nltk_data]    | Downloading package names to\n",
      "[nltk_data]    |     /Users/dmitry/nltk_data...\n",
      "[nltk_data]    |   Unzipping corpora/names.zip.\n",
      "[nltk_data]    | Downloading package nombank.1.0 to\n",
      "[nltk_data]    |     /Users/dmitry/nltk_data...\n",
      "[nltk_data]    | Downloading package nps_chat to\n",
      "[nltk_data]    |     /Users/dmitry/nltk_data...\n",
      "[nltk_data]    |   Unzipping corpora/nps_chat.zip.\n",
      "[nltk_data]    | Downloading package omw to /Users/dmitry/nltk_data...\n",
      "[nltk_data]    |   Unzipping corpora/omw.zip.\n",
      "[nltk_data]    | Downloading package opinion_lexicon to\n",
      "[nltk_data]    |     /Users/dmitry/nltk_data...\n",
      "[nltk_data]    |   Unzipping corpora/opinion_lexicon.zip.\n",
      "[nltk_data]    | Downloading package paradigms to\n",
      "[nltk_data]    |     /Users/dmitry/nltk_data...\n",
      "[nltk_data]    |   Unzipping corpora/paradigms.zip.\n",
      "[nltk_data]    | Downloading package pil to /Users/dmitry/nltk_data...\n",
      "[nltk_data]    |   Unzipping corpora/pil.zip.\n",
      "[nltk_data]    | Downloading package pl196x to\n",
      "[nltk_data]    |     /Users/dmitry/nltk_data...\n",
      "[nltk_data]    |   Unzipping corpora/pl196x.zip.\n",
      "[nltk_data]    | Downloading package ppattach to\n",
      "[nltk_data]    |     /Users/dmitry/nltk_data...\n",
      "[nltk_data]    |   Unzipping corpora/ppattach.zip.\n",
      "[nltk_data]    | Downloading package problem_reports to\n",
      "[nltk_data]    |     /Users/dmitry/nltk_data...\n",
      "[nltk_data]    |   Unzipping corpora/problem_reports.zip.\n",
      "[nltk_data]    | Downloading package propbank to\n",
      "[nltk_data]    |     /Users/dmitry/nltk_data...\n",
      "[nltk_data]    | Downloading package ptb to /Users/dmitry/nltk_data...\n",
      "[nltk_data]    |   Unzipping corpora/ptb.zip.\n",
      "[nltk_data]    | Downloading package product_reviews_1 to\n",
      "[nltk_data]    |     /Users/dmitry/nltk_data...\n",
      "[nltk_data]    |   Unzipping corpora/product_reviews_1.zip.\n",
      "[nltk_data]    | Downloading package product_reviews_2 to\n",
      "[nltk_data]    |     /Users/dmitry/nltk_data...\n",
      "[nltk_data]    |   Unzipping corpora/product_reviews_2.zip.\n",
      "[nltk_data]    | Downloading package pros_cons to\n",
      "[nltk_data]    |     /Users/dmitry/nltk_data...\n",
      "[nltk_data]    |   Unzipping corpora/pros_cons.zip.\n",
      "[nltk_data]    | Downloading package qc to /Users/dmitry/nltk_data...\n",
      "[nltk_data]    |   Unzipping corpora/qc.zip.\n",
      "[nltk_data]    | Downloading package reuters to\n",
      "[nltk_data]    |     /Users/dmitry/nltk_data...\n",
      "[nltk_data]    | Downloading package rte to /Users/dmitry/nltk_data...\n",
      "[nltk_data]    |   Unzipping corpora/rte.zip.\n",
      "[nltk_data]    | Downloading package semcor to\n",
      "[nltk_data]    |     /Users/dmitry/nltk_data...\n"
     ]
    },
    {
     "name": "stderr",
     "output_type": "stream",
     "text": [
      "[nltk_data]    | Downloading package senseval to\n",
      "[nltk_data]    |     /Users/dmitry/nltk_data...\n",
      "[nltk_data]    |   Unzipping corpora/senseval.zip.\n",
      "[nltk_data]    | Downloading package sentiwordnet to\n",
      "[nltk_data]    |     /Users/dmitry/nltk_data...\n",
      "[nltk_data]    |   Unzipping corpora/sentiwordnet.zip.\n",
      "[nltk_data]    | Downloading package sentence_polarity to\n",
      "[nltk_data]    |     /Users/dmitry/nltk_data...\n",
      "[nltk_data]    |   Unzipping corpora/sentence_polarity.zip.\n",
      "[nltk_data]    | Downloading package shakespeare to\n",
      "[nltk_data]    |     /Users/dmitry/nltk_data...\n",
      "[nltk_data]    |   Unzipping corpora/shakespeare.zip.\n",
      "[nltk_data]    | Downloading package sinica_treebank to\n",
      "[nltk_data]    |     /Users/dmitry/nltk_data...\n",
      "[nltk_data]    |   Unzipping corpora/sinica_treebank.zip.\n",
      "[nltk_data]    | Downloading package smultron to\n",
      "[nltk_data]    |     /Users/dmitry/nltk_data...\n",
      "[nltk_data]    |   Unzipping corpora/smultron.zip.\n",
      "[nltk_data]    | Downloading package state_union to\n",
      "[nltk_data]    |     /Users/dmitry/nltk_data...\n",
      "[nltk_data]    |   Unzipping corpora/state_union.zip.\n",
      "[nltk_data]    | Downloading package stopwords to\n",
      "[nltk_data]    |     /Users/dmitry/nltk_data...\n",
      "[nltk_data]    |   Unzipping corpora/stopwords.zip.\n",
      "[nltk_data]    | Downloading package subjectivity to\n",
      "[nltk_data]    |     /Users/dmitry/nltk_data...\n",
      "[nltk_data]    |   Unzipping corpora/subjectivity.zip.\n",
      "[nltk_data]    | Downloading package swadesh to\n",
      "[nltk_data]    |     /Users/dmitry/nltk_data...\n",
      "[nltk_data]    |   Unzipping corpora/swadesh.zip.\n",
      "[nltk_data]    | Downloading package switchboard to\n",
      "[nltk_data]    |     /Users/dmitry/nltk_data...\n",
      "[nltk_data]    |   Unzipping corpora/switchboard.zip.\n",
      "[nltk_data]    | Downloading package timit to\n",
      "[nltk_data]    |     /Users/dmitry/nltk_data...\n",
      "[nltk_data]    |   Unzipping corpora/timit.zip.\n",
      "[nltk_data]    | Downloading package toolbox to\n",
      "[nltk_data]    |     /Users/dmitry/nltk_data...\n",
      "[nltk_data]    |   Unzipping corpora/toolbox.zip.\n",
      "[nltk_data]    | Downloading package treebank to\n",
      "[nltk_data]    |     /Users/dmitry/nltk_data...\n",
      "[nltk_data]    |   Unzipping corpora/treebank.zip.\n",
      "[nltk_data]    | Downloading package twitter_samples to\n",
      "[nltk_data]    |     /Users/dmitry/nltk_data...\n",
      "[nltk_data]    |   Unzipping corpora/twitter_samples.zip.\n",
      "[nltk_data]    | Downloading package udhr to\n",
      "[nltk_data]    |     /Users/dmitry/nltk_data...\n",
      "[nltk_data]    |   Unzipping corpora/udhr.zip.\n",
      "[nltk_data]    | Downloading package udhr2 to\n",
      "[nltk_data]    |     /Users/dmitry/nltk_data...\n",
      "[nltk_data]    |   Unzipping corpora/udhr2.zip.\n",
      "[nltk_data]    | Downloading package unicode_samples to\n",
      "[nltk_data]    |     /Users/dmitry/nltk_data...\n",
      "[nltk_data]    |   Unzipping corpora/unicode_samples.zip.\n",
      "[nltk_data]    | Downloading package universal_treebanks_v20 to\n",
      "[nltk_data]    |     /Users/dmitry/nltk_data...\n",
      "[nltk_data]    | Downloading package verbnet to\n",
      "[nltk_data]    |     /Users/dmitry/nltk_data...\n",
      "[nltk_data]    |   Unzipping corpora/verbnet.zip.\n",
      "[nltk_data]    | Downloading package verbnet3 to\n",
      "[nltk_data]    |     /Users/dmitry/nltk_data...\n",
      "[nltk_data]    |   Unzipping corpora/verbnet3.zip.\n",
      "[nltk_data]    | Downloading package webtext to\n",
      "[nltk_data]    |     /Users/dmitry/nltk_data...\n",
      "[nltk_data]    |   Unzipping corpora/webtext.zip.\n",
      "[nltk_data]    | Downloading package wordnet to\n",
      "[nltk_data]    |     /Users/dmitry/nltk_data...\n",
      "[nltk_data]    |   Unzipping corpora/wordnet.zip.\n",
      "[nltk_data]    | Downloading package wordnet_ic to\n",
      "[nltk_data]    |     /Users/dmitry/nltk_data...\n",
      "[nltk_data]    |   Unzipping corpora/wordnet_ic.zip.\n",
      "[nltk_data]    | Downloading package words to\n",
      "[nltk_data]    |     /Users/dmitry/nltk_data...\n",
      "[nltk_data]    |   Unzipping corpora/words.zip.\n",
      "[nltk_data]    | Downloading package ycoe to\n",
      "[nltk_data]    |     /Users/dmitry/nltk_data...\n",
      "[nltk_data]    |   Unzipping corpora/ycoe.zip.\n",
      "[nltk_data]    | Downloading package rslp to\n",
      "[nltk_data]    |     /Users/dmitry/nltk_data...\n",
      "[nltk_data]    |   Unzipping stemmers/rslp.zip.\n",
      "[nltk_data]    | Downloading package maxent_treebank_pos_tagger to\n",
      "[nltk_data]    |     /Users/dmitry/nltk_data...\n",
      "[nltk_data]    |   Unzipping taggers/maxent_treebank_pos_tagger.zip.\n",
      "[nltk_data]    | Downloading package universal_tagset to\n",
      "[nltk_data]    |     /Users/dmitry/nltk_data...\n",
      "[nltk_data]    |   Unzipping taggers/universal_tagset.zip.\n",
      "[nltk_data]    | Downloading package maxent_ne_chunker to\n",
      "[nltk_data]    |     /Users/dmitry/nltk_data...\n",
      "[nltk_data]    |   Unzipping chunkers/maxent_ne_chunker.zip.\n",
      "[nltk_data]    | Downloading package punkt to\n",
      "[nltk_data]    |     /Users/dmitry/nltk_data...\n",
      "[nltk_data]    |   Unzipping tokenizers/punkt.zip.\n",
      "[nltk_data]    | Downloading package book_grammars to\n",
      "[nltk_data]    |     /Users/dmitry/nltk_data...\n",
      "[nltk_data]    |   Unzipping grammars/book_grammars.zip.\n",
      "[nltk_data]    | Downloading package sample_grammars to\n",
      "[nltk_data]    |     /Users/dmitry/nltk_data...\n",
      "[nltk_data]    |   Unzipping grammars/sample_grammars.zip.\n",
      "[nltk_data]    | Downloading package spanish_grammars to\n",
      "[nltk_data]    |     /Users/dmitry/nltk_data...\n",
      "[nltk_data]    |   Unzipping grammars/spanish_grammars.zip.\n",
      "[nltk_data]    | Downloading package basque_grammars to\n",
      "[nltk_data]    |     /Users/dmitry/nltk_data...\n",
      "[nltk_data]    |   Unzipping grammars/basque_grammars.zip.\n",
      "[nltk_data]    | Downloading package large_grammars to\n",
      "[nltk_data]    |     /Users/dmitry/nltk_data...\n",
      "[nltk_data]    |   Unzipping grammars/large_grammars.zip.\n",
      "[nltk_data]    | Downloading package tagsets to\n",
      "[nltk_data]    |     /Users/dmitry/nltk_data...\n",
      "[nltk_data]    |   Unzipping help/tagsets.zip.\n",
      "[nltk_data]    | Downloading package snowball_data to\n",
      "[nltk_data]    |     /Users/dmitry/nltk_data...\n",
      "[nltk_data]    | Downloading package bllip_wsj_no_aux to\n",
      "[nltk_data]    |     /Users/dmitry/nltk_data...\n",
      "[nltk_data]    |   Unzipping models/bllip_wsj_no_aux.zip.\n",
      "[nltk_data]    | Downloading package word2vec_sample to\n",
      "[nltk_data]    |     /Users/dmitry/nltk_data...\n",
      "[nltk_data]    |   Unzipping models/word2vec_sample.zip.\n",
      "[nltk_data]    | Downloading package panlex_swadesh to\n",
      "[nltk_data]    |     /Users/dmitry/nltk_data...\n",
      "[nltk_data]    | Downloading package mte_teip5 to\n",
      "[nltk_data]    |     /Users/dmitry/nltk_data...\n",
      "[nltk_data]    |   Unzipping corpora/mte_teip5.zip.\n",
      "[nltk_data]    | Downloading package averaged_perceptron_tagger to\n",
      "[nltk_data]    |     /Users/dmitry/nltk_data...\n",
      "[nltk_data]    |   Unzipping taggers/averaged_perceptron_tagger.zip.\n",
      "[nltk_data]    | Downloading package averaged_perceptron_tagger_ru to\n",
      "[nltk_data]    |     /Users/dmitry/nltk_data...\n",
      "[nltk_data]    |   Unzipping\n",
      "[nltk_data]    |       taggers/averaged_perceptron_tagger_ru.zip.\n",
      "[nltk_data]    | Downloading package perluniprops to\n",
      "[nltk_data]    |     /Users/dmitry/nltk_data...\n",
      "[nltk_data]    |   Unzipping misc/perluniprops.zip.\n",
      "[nltk_data]    | Downloading package nonbreaking_prefixes to\n",
      "[nltk_data]    |     /Users/dmitry/nltk_data...\n",
      "[nltk_data]    |   Unzipping corpora/nonbreaking_prefixes.zip.\n",
      "[nltk_data]    | Downloading package vader_lexicon to\n",
      "[nltk_data]    |     /Users/dmitry/nltk_data...\n",
      "[nltk_data]    | Downloading package porter_test to\n",
      "[nltk_data]    |     /Users/dmitry/nltk_data...\n",
      "[nltk_data]    |   Unzipping stemmers/porter_test.zip.\n",
      "[nltk_data]    | Downloading package wmt15_eval to\n",
      "[nltk_data]    |     /Users/dmitry/nltk_data...\n",
      "[nltk_data]    |   Unzipping models/wmt15_eval.zip.\n",
      "[nltk_data]    | Downloading package mwa_ppdb to\n",
      "[nltk_data]    |     /Users/dmitry/nltk_data...\n",
      "[nltk_data]    |   Unzipping misc/mwa_ppdb.zip.\n",
      "[nltk_data]    | \n",
      "[nltk_data]  Done downloading collection all\n"
     ]
    }
   ],
   "source": [
    "import tensorflow as tf\n",
    "from tensorflow.keras import Sequential\n",
    "from tensorflow.keras.layers import Embedding, GRU, LSTM, BatchNormalization\n",
    "from tensorflow.keras.layers import Dropout, Dense, SimpleRNN\n",
    "from tensorflow.keras.callbacks import ModelCheckpoint, EarlyStopping\n",
    "from gensim.models import Word2Vec\n",
    "\n",
    "import numpy as np\n",
    "\n",
    "\n",
    "import os\n",
    "import time\n",
    "from tqdm import tqdm\n",
    "\n",
    "import re\n",
    "\n",
    "import nltk\n",
    "nltk.download('all')\n",
    "\n",
    "import matplotlib\n",
    "from matplotlib import pyplot as plt\n",
    "from jupyterthemes import jtplot\n",
    "matplotlib.rcParams['figure.figsize'] = (15,10)\n",
    "jtplot.style('onedork')"
   ]
  },
  {
   "cell_type": "markdown",
   "metadata": {},
   "source": [
    "### Подготовка данных\n",
    "#### Источник данных\n",
    "Для составления датасета я воспользовался сайтом http://www.gutenberg.org с книгами, доступными для свободного скачивания.\n",
    "\n",
    "Списки книг вместе с ссылками на них:"
   ]
  },
  {
   "cell_type": "code",
   "execution_count": 25,
   "metadata": {},
   "outputs": [],
   "source": [
    "books = [\"345.txt\", \n",
    "         \"63570-0.txt\", \n",
    "         \"1342-0.txt\",\n",
    "         \"5200.txt\",\n",
    "         \"63573.txt\"]\n",
    "\n",
    "urls = [\"https://www.gutenberg.org/files/345/345.txt\",\n",
    "        \"https://www.gutenberg.org/files/63570/63570-0.txt\",\n",
    "        \"https://www.gutenberg.org/files/1342/1342-0.txt\",\n",
    "        \"https://www.gutenberg.org/files/5200/5200.txt\",\n",
    "        \"https://www.gutenberg.org/files/63573/63573.txt\"]"
   ]
  },
  {
   "cell_type": "markdown",
   "metadata": {},
   "source": [
    "#### Скачивание и обработка данных:\n",
    "Мы будем скачивать книги из списка, обрабатывать их, логически разбивать и объеденять их в один большой сет слов. Для этого опишем необходимые функции.\n",
    "\n",
    "За скачивание текста отвечает встроенная в keras функция get_file.\n",
    "\n",
    "Импорт текста из скачанной книги:"
   ]
  },
  {
   "cell_type": "code",
   "execution_count": 17,
   "metadata": {},
   "outputs": [],
   "source": [
    "def text_from_file(filepath):\n",
    "    text = \"\"\n",
    "    with open(filepath, 'rb') as book:\n",
    "        text = book.read().decode(encoding='utf-8')\n",
    "    return text"
   ]
  },
  {
   "cell_type": "markdown",
   "metadata": {},
   "source": [
    "Импортированный текст помимо самого произведения несет информацию о самой книге, котороая засоряет текст. Попробуем очистить данные. Для очистки и обработки данных будем использовать nltk.\n",
    "\n",
    "Все книги Проекта Гутенберг имеют ряд технической информации в начале и конце. При этом для разделения этой информации от самого текста книги в каждом файле есть 2 сигнальные строки в начале и конце. Достанем текст, коорые между ними:"
   ]
  },
  {
   "cell_type": "code",
   "execution_count": 18,
   "metadata": {},
   "outputs": [],
   "source": [
    "# May be done by regex more effective, but it works\n",
    "def clear_gutenberg(text):\n",
    "    # The first lines before \"*** START PROJECT .... ***\" useless\n",
    "    # cut text before this line\n",
    "    text = text[text.find(\"*** START\"):]\n",
    "    # and cut this line too\n",
    "    text = text[text.find(\"\\n\"):]\n",
    "    # and lines after \"*** END OF\" also useless, cut this\n",
    "    return text[:text.find(\"*** END OF\")]"
   ]
  },
  {
   "cell_type": "markdown",
   "metadata": {},
   "source": [
    "Некоторые книгии содержат места для вставок иллюстраций. Удалим эти вставки:"
   ]
  },
  {
   "cell_type": "code",
   "execution_count": 19,
   "metadata": {},
   "outputs": [],
   "source": [
    "def clear_inserts(text):\n",
    "    return \"\".join(text.split(\"[Illustration]\"))"
   ]
  },
  {
   "cell_type": "markdown",
   "metadata": {},
   "source": [
    "Но приведенная выше очистка недостаточна, поэтому разделим текст по главам, чтобы потом из них состовлять логически связанные последовательности. Возможны случаи, когда слово \"chapter\" встретится в тексте книги, однако считаем что такое разделение будет не фатальным."
   ]
  },
  {
   "cell_type": "code",
   "execution_count": 20,
   "metadata": {},
   "outputs": [],
   "source": [
    "def split_by_chapter(text, minlen = 1000):\n",
    "    ans = []\n",
    "    # search  chapter line:\n",
    "    search_res = re.search('\\n\\s*chapter[^\\n]+\\n', text, flags=re.IGNORECASE)\n",
    "    # if book without chapter this func return []\n",
    "    if search_res is None:\n",
    "        return ans\n",
    "    # index of first chapter\n",
    "    i = search_res.span()[1]\n",
    "    # and cat all text before with line:\n",
    "    text = text[i+1:]\n",
    "    \n",
    "    #do while:\n",
    "    search_res = re.search('\\n\\s*chapter[^\\n]+\\n', text, flags=re.IGNORECASE)\n",
    "    while not search_res is None:\n",
    "        # searchnew chapter line\n",
    "        match = search_res.span()\n",
    "        # take all text before\n",
    "        to_add = text[:match[0]]\n",
    "        # but it may be content-list, check by len of chapter:\n",
    "        if len(to_add) > minlen:\n",
    "            ans.append(text[:match[0]])\n",
    "        # and cut this text with chapter line\n",
    "        text = text[match[1]:]\n",
    "        # search new chapter line\n",
    "        search_res = re.search('\\n\\s*chapter[^\\n]+\\n', text, flags=re.IGNORECASE)\n",
    "    \n",
    "    # add last chapter\n",
    "    ans.append(text)\n",
    "    # retun splited text\n",
    "    return ans"
   ]
  },
  {
   "cell_type": "markdown",
   "metadata": {},
   "source": [
    "Тогда объединенный текст глав всех книг можно получить объеденив вышеописанные функции. Объединённый текст - список из глав-текстов."
   ]
  },
  {
   "cell_type": "code",
   "execution_count": 21,
   "metadata": {},
   "outputs": [],
   "source": [
    "def chapters_from_books(books, urls):\n",
    "    chapters = []\n",
    "    for book, url in zip(books, urls):\n",
    "        #download book:\n",
    "        filepath = tf.keras.utils.get_file(book, url)\n",
    "        # clear gutenberg info\n",
    "        text = clear_gutenberg(text_from_file(filepath))\n",
    "        # split by chapters, clear inserts and extend big dataset\n",
    "        chapters.extend(split_by_chapter(clear_inserts(text)))\n",
    "    return chapters"
   ]
  },
  {
   "cell_type": "markdown",
   "metadata": {},
   "source": [
    "Теперь можно перевести текст в список слов проведя токенизацию текста. Некоторые, стоящие в одинаковой форме, но в разном регистре могут существенно повлиять на размер словаря и на качество модели, поэтому проведем небольшую предобработку: переведем все несобственные слова в нижний регистр. Для этого воспользуемся pos_tag из nltk для поиска имен собственных.\n",
    "\n",
    "Обычно для задач машинного обучения используют очистку от стоп-слов и преобразование к нормальной форме для наилучшего поиска смысловых связей между словами, однако наша задача как можно более похоже сымитировать человеческий текст, структура которого наполнена различными знаками препинания, междометиями и предлогами. Поэтому оставляем их в тексте в качестве отдельных слов."
   ]
  },
  {
   "cell_type": "code",
   "execution_count": 22,
   "metadata": {},
   "outputs": [],
   "source": [
    "def tokenize_text(text):\n",
    "    #list of words\n",
    "    ans = []\n",
    "    tagged = nltk.pos_tag(nltk.word_tokenize(text))\n",
    "    for tag in tagged:\n",
    "        if tag[1] != 'NNP':\n",
    "            ans.append(tag[0].lower())\n",
    "        else:\n",
    "            ans.append(tag[0])\n",
    "    # list of lower words\n",
    "    return ans"
   ]
  },
  {
   "cell_type": "markdown",
   "metadata": {},
   "source": [
    "Тогда функция получения списка токенезированных глав:"
   ]
  },
  {
   "cell_type": "code",
   "execution_count": 23,
   "metadata": {},
   "outputs": [],
   "source": [
    "def tokenize_data(chapters):\n",
    "        ans = []\n",
    "        for chapter in tqdm(chapters):\n",
    "            ans.append(tokenize_text(chapter))\n",
    "        return ans\n",
    "#         return = list(map(tokenize_text, chapters))"
   ]
  },
  {
   "cell_type": "markdown",
   "metadata": {},
   "source": [
    "Импортируем данные с применением полученных функций:"
   ]
  },
  {
   "cell_type": "code",
   "execution_count": 26,
   "metadata": {},
   "outputs": [
    {
     "name": "stdout",
     "output_type": "stream",
     "text": [
      "Downloading data from https://www.gutenberg.org/files/345/345.txt\n",
      "884736/883158 [==============================] - 2s 2us/step\n",
      "Downloading data from https://www.gutenberg.org/files/63570/63570-0.txt\n",
      "557056/552186 [==============================] - 2s 3us/step\n",
      "Downloading data from https://www.gutenberg.org/files/1342/1342-0.txt\n",
      "802816/799738 [==============================] - 2s 3us/step\n",
      "Downloading data from https://www.gutenberg.org/files/5200/5200.txt\n",
      "147456/141450 [===============================] - 0s 3us/step\n",
      "Downloading data from https://www.gutenberg.org/files/63573/63573.txt\n",
      "32768/24655 [=======================================] - 0s 5us/step\n",
      "\n",
      "Общий текст состоит из 111 глав!\n"
     ]
    }
   ],
   "source": [
    "chaps = chapters_from_books(books, urls)\n",
    "\n",
    "print('\\nОбщий текст состоит из {} глав!'.format(len(chaps)))\n"
   ]
  },
  {
   "cell_type": "markdown",
   "metadata": {},
   "source": [
    "И токенезируем их:"
   ]
  },
  {
   "cell_type": "code",
   "execution_count": 29,
   "metadata": {},
   "outputs": [
    {
     "name": "stderr",
     "output_type": "stream",
     "text": [
      "100%|██████████| 111/111 [00:36<00:00,  3.07it/s]\n"
     ]
    }
   ],
   "source": [
    "chaps = tokenize_data(chaps)"
   ]
  },
  {
   "cell_type": "markdown",
   "metadata": {},
   "source": [
    "На данный момент мы преобразовали книги в последовательности слов, разбитые по главам."
   ]
  },
  {
   "cell_type": "markdown",
   "metadata": {},
   "source": [
    "#### Разбитие текста на последовательности слов.\n",
    "Разбивка будет происходить на последовательности длины SEQ_LENGTH."
   ]
  },
  {
   "cell_type": "code",
   "execution_count": 30,
   "metadata": {},
   "outputs": [],
   "source": [
    "SEQ_LENGTH = 65"
   ]
  },
  {
   "cell_type": "markdown",
   "metadata": {},
   "source": [
    "Каждую главу разбиваем на последовательности длины SEQ_LENGTH + 1, после чего производим объединение глав в один датасет. Разбитие было нужно для того, чтобы конец одной главы не засорял начало другой. В данном варианте мы избавляемся от последних слов глав."
   ]
  },
  {
   "cell_type": "code",
   "execution_count": 31,
   "metadata": {},
   "outputs": [],
   "source": [
    "def chapter_sequences(chapter, seq_len = 51):\n",
    "    sequences = []\n",
    "    i = 0\n",
    "    for j in range(seq_len, len(chapter), seq_len):\n",
    "        sequences.append(chapter[i:j])\n",
    "        i = j\n",
    "    return sequences\n",
    "\n",
    "def sequences_set(chapters, seq_len = 50):\n",
    "    sequences = []\n",
    "    for chapter in tqdm(chapters):\n",
    "        sequences.extend(chapter_sequences(chapter, seq_len))\n",
    "    return sequences"
   ]
  },
  {
   "cell_type": "code",
   "execution_count": 32,
   "metadata": {},
   "outputs": [
    {
     "name": "stderr",
     "output_type": "stream",
     "text": [
      "100%|██████████| 111/111 [00:00<00:00, 1630.74it/s]"
     ]
    },
    {
     "name": "stdout",
     "output_type": "stream",
     "text": [
      "Общий датасет содержит 6487 последовательности!\n"
     ]
    },
    {
     "name": "stderr",
     "output_type": "stream",
     "text": [
      "\n"
     ]
    }
   ],
   "source": [
    "seqs = sequences_set(chaps, SEQ_LENGTH + 1)\n",
    "print('Общий датасет содержит {} последовательности!'.format(len(seqs)))\n"
   ]
  },
  {
   "cell_type": "markdown",
   "metadata": {},
   "source": [
    "#### Создание словаря и векторизация слов\n",
    "\n",
    "За создание словаря и векторизацию слов будет ответственнена модель Word2Vec, которая позволит находить логические взаимосвязи между словами последовательностей слов. В словарь будут добавляться слова, которые встречались в объединенном сете хотя бы MIN_COUNT раз. Это нужно для экономии ресурсов и для более качественного распознавания связей в последовательностях.\n",
    "\n",
    "Далее нужно будет осторожно обращаться с теми словами, которые не попали в словарь.\n",
    "\n",
    "Word2Vec затратный метод, однако он позволит нам создать предобученную матрицу из векторов для каждого из слов, которую можно использовать в качестве входного слоя нашей RNN для повышения качества обученной в последствии модели."
   ]
  },
  {
   "cell_type": "code",
   "execution_count": 33,
   "metadata": {},
   "outputs": [
    {
     "name": "stdout",
     "output_type": "stream",
     "text": [
      "\n",
      "Модель обучалась 26.053996086120605 секунд\n"
     ]
    }
   ],
   "source": [
    "start = time.time()\n",
    "w2v = Word2Vec(seqs, min_count=2, size = 510, workers = 4, iter = 27, alpha = 0.1)\n",
    "end = time.time()\n",
    "\n",
    "print('\\nМодель обучалась {} секунд'.format(end - start))"
   ]
  },
  {
   "cell_type": "markdown",
   "metadata": {},
   "source": [
    "Для обучения слов необходимо преобразовать их в численный вид, а для интерпретации ответов RNN, напротив, нужно преобразовать числа в слова. Для этого создадим 2 структуры с биективным отображением одной в другую."
   ]
  },
  {
   "cell_type": "code",
   "execution_count": 34,
   "metadata": {},
   "outputs": [],
   "source": [
    "def enumerated_w2v_vocabs(w2v):\n",
    "    word2idx = {}\n",
    "    idx2word = []\n",
    "    for word in w2v.wv.vocab:\n",
    "        word2idx[word] = len(idx2word)\n",
    "        idx2word.append(word)\n",
    "    return word2idx, idx2word"
   ]
  },
  {
   "cell_type": "code",
   "execution_count": 35,
   "metadata": {},
   "outputs": [
    {
     "name": "stdout",
     "output_type": "stream",
     "text": [
      "\n",
      "Размер словаря: 11077 слов\n"
     ]
    }
   ],
   "source": [
    "word2idx, idx2word = enumerated_w2v_vocabs(w2v)\n",
    "# convert to numpy for comfortable converts\n",
    "idx2word = np.array(idx2word)\n",
    "print('\\nРазмер словаря: {} слов'.format(len(idx2word)))"
   ]
  },
  {
   "cell_type": "markdown",
   "metadata": {},
   "source": [
    "#### Тренировочный датасет\n",
    "\n",
    "Теперь мы можем преобразовать список последовательностей слов в датасет численных тензоров длины SEQ_LENGTH, разбитых на пакеты размера BATCH_SIZE."
   ]
  },
  {
   "cell_type": "code",
   "execution_count": 36,
   "metadata": {},
   "outputs": [],
   "source": [
    "BATCH_SIZE = 128"
   ]
  },
  {
   "cell_type": "markdown",
   "metadata": {},
   "source": [
    "Функция перевода слова в число. Для слов, не присутствующих в словаре будем грубо возращать дефолтное значение, которое по умолчанию для симола точка."
   ]
  },
  {
   "cell_type": "code",
   "execution_count": 37,
   "metadata": {},
   "outputs": [],
   "source": [
    "def word_to_int(word, word2idx, default = '.'):\n",
    "    if word in word2idx:\n",
    "        return word2idx[word]\n",
    "    return word2idx[default]"
   ]
  },
  {
   "cell_type": "markdown",
   "metadata": {},
   "source": [
    "Функция перевода списка последовательностей слов в список последовательностей индексов."
   ]
  },
  {
   "cell_type": "code",
   "execution_count": 38,
   "metadata": {},
   "outputs": [],
   "source": [
    "def integer_sequences(sequences, word2idx):\n",
    "    ans = []\n",
    "    converter = lambda x: word_to_int(x, word2idx)\n",
    "    for seq in tqdm(sequences):\n",
    "        ans.append(list(map(converter, seq)))\n",
    "    return ans"
   ]
  },
  {
   "cell_type": "markdown",
   "metadata": {},
   "source": [
    "Переведём последовательности чисел в тензорный вид."
   ]
  },
  {
   "cell_type": "code",
   "execution_count": 39,
   "metadata": {},
   "outputs": [
    {
     "name": "stderr",
     "output_type": "stream",
     "text": [
      "100%|██████████| 6487/6487 [00:00<00:00, 13361.49it/s]\n"
     ]
    }
   ],
   "source": [
    "dataset = integer_sequences(seqs, word2idx)\n",
    "\n",
    "dataset = tf.data.Dataset.from_tensor_slices(dataset)"
   ]
  },
  {
   "cell_type": "markdown",
   "metadata": {},
   "source": [
    "К этому моменту мы имеем набор из последовательностей по SEQ_LENGTH + 1 чисел. Для обучения следует разбить этот датасет на 2 столбца:\n",
    "\n",
    "Обучающие последовательности из перых SEQ_LENGTH элементов.\n",
    "\n",
    "Тестовые последовательности из последних SEQ_LENGTH элементов.\n",
    "\n",
    "Так каждому слову последовательности в обучающей части будет поставлено в соответствие следующее по порядку слово в тестовой части тренировочного набора."
   ]
  },
  {
   "cell_type": "code",
   "execution_count": 40,
   "metadata": {},
   "outputs": [],
   "source": [
    "# Code from tensorflow tutuorial\n",
    "def split_input_target(chunk):\n",
    "    input_text = chunk[:-1]\n",
    "    target_text = chunk[1:]\n",
    "    return input_text, target_text\n",
    "\n",
    "dataset = dataset.map(split_input_target)"
   ]
  },
  {
   "cell_type": "markdown",
   "metadata": {},
   "source": [
    "Для ускорения обучения и лучшей апроксимации уреднённого градиента от всего набора при обучении перемешаем последовательности в наборе и разобъем их на наборы по BATCH_SIZE элементов."
   ]
  },
  {
   "cell_type": "code",
   "execution_count": 41,
   "metadata": {},
   "outputs": [
    {
     "data": {
      "text/plain": [
       "<BatchDataset shapes: ((128, 65), (128, 65)), types: (tf.int32, tf.int32)>"
      ]
     },
     "execution_count": 41,
     "metadata": {},
     "output_type": "execute_result"
    }
   ],
   "source": [
    "# Code from tensorflow tutuorial\n",
    "BUFFER_SIZE = 10000\n",
    "\n",
    "dataset = dataset.shuffle(BUFFER_SIZE).batch(BATCH_SIZE, drop_remainder=True)\n",
    "\n",
    "dataset"
   ]
  },
  {
   "cell_type": "markdown",
   "metadata": {},
   "source": [
    "Датасет готов к обучению модели!\n",
    "\n",
    "### Проектирование моделей\n",
    "\n",
    "#### Полносвязная RNN\n",
    "\n",
    "Директория для данных модели:"
   ]
  },
  {
   "cell_type": "code",
   "execution_count": 45,
   "metadata": {},
   "outputs": [],
   "source": [
    "\n",
    "RNN_DIR = \"./full_rnn\""
   ]
  },
  {
   "cell_type": "code",
   "execution_count": 46,
   "metadata": {},
   "outputs": [],
   "source": [
    "! mkdir -p full_rnn"
   ]
  },
  {
   "cell_type": "markdown",
   "metadata": {},
   "source": [
    "Наша полносвязная RNN будет состоять из следующих слоёв:\n",
    "\n",
    "    Входной embedding слой, преобразующий все слова последовательностей в векторный вид. Этот слой будет начально иницализирован весами предобученной Word2Vec модели.\n",
    "\n",
    "    Полносвязный рекуррентный слой с функцией инициализации Ксавьера, требуемый по заданию.\n",
    "\n",
    "Выходной слой сети с размерностью - размером словаря."
   ]
  },
  {
   "cell_type": "code",
   "execution_count": 44,
   "metadata": {},
   "outputs": [],
   "source": [
    "def ModelRNN(w2v, batch_size, rnn_units = 512, neuros = 128, drop_rate = 0.1):\n",
    "    vocab_size = len(w2v.wv.vocab)\n",
    "    model = Sequential([\n",
    "      # 1 layer\n",
    "        Embedding(vocab_size, w2v.vector_size, \n",
    "                  batch_input_shape=[batch_size, None], weights=[w2v.wv.vectors]),\n",
    "      # 2 layer \n",
    "        SimpleRNN(rnn_units, return_sequences=True, stateful=False, \n",
    "          recurrent_initializer='glorot_uniform'), \n",
    "      # 3 layer\n",
    "        #Dropout(drop_rate),\n",
    "        #BatchNormalization(),\n",
    "        #Dense(neuros, kernel_initializer=\"he_uniform\", activation='relu'),\n",
    "      # 4 layer\n",
    "        Dense(vocab_size, kernel_initializer=\"glorot_uniform\")\n",
    "    ])\n",
    "    return model"
   ]
  },
  {
   "cell_type": "markdown",
   "metadata": {},
   "source": [
    "#### Однослойная LSTM\n",
    "Директория для данных модели:"
   ]
  },
  {
   "cell_type": "code",
   "execution_count": 47,
   "metadata": {},
   "outputs": [],
   "source": [
    "SINGLE_DIR = \"./single_lstm\""
   ]
  },
  {
   "cell_type": "code",
   "execution_count": 48,
   "metadata": {},
   "outputs": [],
   "source": [
    "! mkdir -p single_lstm"
   ]
  },
  {
   "cell_type": "markdown",
   "metadata": {},
   "source": [
    "Наша однослойная LSTM будет состоять из следующих слоёв:\n",
    "\n",
    "    Входной embedding слой, преобразующий все слова последовательностей в векторный вид. Этот слой будет начально иницализирован весами предобученной Word2Vec модели.\n",
    "\n",
    "    LSTM слой с функцией инициализации Ксавьера, требуемый по заданию.\n",
    "\n",
    "    Выходной слой сети с размерностью - размером словаря."
   ]
  },
  {
   "cell_type": "code",
   "execution_count": 49,
   "metadata": {},
   "outputs": [],
   "source": [
    "def ModelSingleLSTM(w2v, batch_size, rnn_units = 512, neuros = 128, drop_rate = 0.1):\n",
    "    vocab_size = len(w2v.wv.vocab)\n",
    "    model = Sequential([\n",
    "      # 1 layer\n",
    "        Embedding(vocab_size, w2v.vector_size, \n",
    "                  batch_input_shape=[batch_size, None], weights=[w2v.wv.vectors]),\n",
    "      # 2 layer \n",
    "        LSTM(rnn_units, return_sequences=True, stateful=False, \n",
    "          recurrent_initializer='glorot_uniform'), \n",
    "      # 3 layer\n",
    "        #Dropout(drop_rate),\n",
    "        #BatchNormalization(),\n",
    "        #Dense(neuros, kernel_initializer=\"he_uniform\", activation='relu'),\n",
    "      # 4 layer\n",
    "        Dense(vocab_size, kernel_initializer=\"glorot_uniform\")\n",
    "    ])\n",
    "    return model"
   ]
  },
  {
   "cell_type": "markdown",
   "metadata": {},
   "source": [
    "#### Двухслойная LSTM\n",
    "Директория для данных модели:"
   ]
  },
  {
   "cell_type": "code",
   "execution_count": 50,
   "metadata": {},
   "outputs": [],
   "source": [
    "DOUBLE_DIR = \"./double_lstm\""
   ]
  },
  {
   "cell_type": "code",
   "execution_count": 51,
   "metadata": {},
   "outputs": [],
   "source": [
    "! mkdir -p double_lstm"
   ]
  },
  {
   "cell_type": "markdown",
   "metadata": {},
   "source": [
    "Наша двухслойная LSTM будет состоять из следующих слоёв:\n",
    "\n",
    "    Входной embedding слой, преобразующий все слова последовательностей в векторный вид. Этот слой будет начально иницализирован весами предобученной Word2Vec модели.\n",
    "\n",
    "    Первый LSTM слой с функцией инициализации Ксавьера, требуемый по заданию.\n",
    "\n",
    "    Второй LSTM слой с функцией инициализации Ксавьера, требуемый по заданию.\n",
    "\n",
    "    Выходной слой сети с размерностью - размером словаря."
   ]
  },
  {
   "cell_type": "code",
   "execution_count": 52,
   "metadata": {},
   "outputs": [],
   "source": [
    "def ModelDoubleLSTM(w2v, batch_size, rnn_units = 512, neuros = 128, drop_rate = 0.1):\n",
    "    vocab_size = len(w2v.wv.vocab)\n",
    "    model = Sequential([\n",
    "      # 1 layer\n",
    "        Embedding(vocab_size, w2v.vector_size, \n",
    "                  batch_input_shape=[batch_size, None], weights=[w2v.wv.vectors]),\n",
    "      # 2 layer \n",
    "        LSTM(rnn_units, return_sequences=True, stateful=False, \n",
    "          recurrent_initializer='glorot_uniform'), \n",
    "      # 3 layer\n",
    "        LSTM(rnn_units, return_sequences=True, stateful=False, \n",
    "          recurrent_initializer='glorot_uniform'),\n",
    "      # 4 layer\n",
    "        #Dropout(drop_rate),\n",
    "        #BatchNormalization(),\n",
    "        #Dense(neuros, kernel_initializer=\"he_uniform\", activation='relu'),\n",
    "      # 5 layer\n",
    "        Dense(vocab_size, kernel_initializer=\"glorot_uniform\")\n",
    "    ])\n",
    "    return model"
   ]
  },
  {
   "cell_type": "markdown",
   "metadata": {},
   "source": [
    "#### Однослойный GRU\n",
    "Директория для данных модели:"
   ]
  },
  {
   "cell_type": "code",
   "execution_count": 53,
   "metadata": {},
   "outputs": [],
   "source": [
    "GRU_DIR = \"./single_gru\""
   ]
  },
  {
   "cell_type": "code",
   "execution_count": 54,
   "metadata": {},
   "outputs": [],
   "source": [
    "! mkdir -p single_gru"
   ]
  },
  {
   "cell_type": "markdown",
   "metadata": {},
   "source": [
    "#### Наша однослойная GRU будет состоять из следующих слоёв:\n",
    "\n",
    "    Входной embedding слой, преобразующий все слова последовательностей в векторный вид. Этот слой будет начально иницализирован весами предобученной Word2Vec модели.\n",
    "\n",
    "    GRU слой с функцией инициализации Ксавьера, требуемый по заданию.\n",
    "\n",
    "    Выходной слой сети с размерностью - размером словаря."
   ]
  },
  {
   "cell_type": "code",
   "execution_count": 55,
   "metadata": {},
   "outputs": [],
   "source": [
    "def ModelGRU(w2v, batch_size, rnn_units = 512, neuros = 128, drop_rate = 0.1):\n",
    "    vocab_size = len(w2v.wv.vocab)\n",
    "    model = Sequential([\n",
    "      # 1 layer\n",
    "        Embedding(vocab_size, w2v.vector_size, \n",
    "                  batch_input_shape=[batch_size, None], weights=[w2v.wv.vectors]),\n",
    "      # 2 layer \n",
    "        GRU(rnn_units, return_sequences=True, stateful=False, \n",
    "          recurrent_initializer='glorot_uniform'), \n",
    "      # 3 layer\n",
    "        #Dropout(drop_rate),\n",
    "        #BatchNormalization(),\n",
    "        #Dense(neuros, kernel_initializer=\"he_uniform\", activation='relu'),\n",
    "      # 4 layer\n",
    "        Dense(vocab_size, kernel_initializer=\"glorot_uniform\")\n",
    "    ])\n",
    "    return model"
   ]
  },
  {
   "cell_type": "markdown",
   "metadata": {},
   "source": [
    "#### Гиперпараметры\n",
    "\n",
    "rnn_units, neuros и drop_rate - гиперпараметры модели, которые следует настраивать для получения наилучшего результата. Также гиперпараметрами являются и длина последовательностей вместе с размером пакетов, однако их настройка происходит раньше, поскольку от них зависит формат данных.\n",
    "\n",
    "### Обучение моделей\n",
    "\n",
    "При обучении полезно сохранять параметры обученной модели в чекпоинты. Для этого при обучении модели следует передать ей структуру, созданием которой занимается эта функция."
   ]
  },
  {
   "cell_type": "code",
   "execution_count": 56,
   "metadata": {},
   "outputs": [],
   "source": [
    "def checkpoint_creator(checkpoint_dir = \"./\"):\n",
    "    checkpoint_prefix = os.path.join(checkpoint_dir, \"checkpoints/ckpt_model\")\n",
    "    checkpoint_callback = ModelCheckpoint(monitor=\"loss\", \n",
    "                                          filepath=checkpoint_prefix,\n",
    "                                          save_weights_only=True, \n",
    "                                          save_best_only=True)\n",
    "    return checkpoint_callback"
   ]
  },
  {
   "cell_type": "markdown",
   "metadata": {},
   "source": [
    "Функция потерь, используемая при обучении."
   ]
  },
  {
   "cell_type": "code",
   "execution_count": 57,
   "metadata": {},
   "outputs": [],
   "source": [
    "# code from tensorflow tutorial\n",
    "def loss(labels, logits):\n",
    "  return tf.keras.losses.sparse_categorical_crossentropy(labels, logits, from_logits=True)"
   ]
  },
  {
   "cell_type": "markdown",
   "metadata": {},
   "source": [
    "Общие гиперпараметры моделей опишем здесь. В большинстве случаев для отдельной модели необходимо подбирать отдельные гиперпараметры, однако в данном случае нас интересует сравнить работу разных архетектур нейросетевых моделей, для чего лучше работать с фиксированным набором параметров для всех моделей."
   ]
  },
  {
   "cell_type": "code",
   "execution_count": 67,
   "metadata": {},
   "outputs": [],
   "source": [
    "RATE = 0.15\n",
    "NEUROS = 512\n",
    "UNITS = 1024\n",
    "\n",
    "EPOCHS = 10"
   ]
  },
  {
   "cell_type": "markdown",
   "metadata": {},
   "source": [
    "Соберём модель.\n",
    "\n",
    "Полносвязная RNN:"
   ]
  },
  {
   "cell_type": "code",
   "execution_count": 59,
   "metadata": {},
   "outputs": [
    {
     "name": "stdout",
     "output_type": "stream",
     "text": [
      "Model: \"sequential\"\n",
      "_________________________________________________________________\n",
      "Layer (type)                 Output Shape              Param #   \n",
      "=================================================================\n",
      "embedding (Embedding)        (128, None, 510)          5649270   \n",
      "_________________________________________________________________\n",
      "simple_rnn (SimpleRNN)       (128, None, 1024)         1571840   \n",
      "_________________________________________________________________\n",
      "dense (Dense)                (128, None, 11077)        11353925  \n",
      "=================================================================\n",
      "Total params: 18,575,035\n",
      "Trainable params: 18,575,035\n",
      "Non-trainable params: 0\n",
      "_________________________________________________________________\n"
     ]
    }
   ],
   "source": [
    "simple_rnn = ModelRNN(w2v, BATCH_SIZE, UNITS, NEUROS, RATE)\n",
    "\n",
    "simple_rnn.summary()"
   ]
  },
  {
   "cell_type": "markdown",
   "metadata": {},
   "source": [
    "Однослойная LSTM:"
   ]
  },
  {
   "cell_type": "code",
   "execution_count": 60,
   "metadata": {},
   "outputs": [
    {
     "name": "stdout",
     "output_type": "stream",
     "text": [
      "Model: \"sequential_1\"\n",
      "_________________________________________________________________\n",
      "Layer (type)                 Output Shape              Param #   \n",
      "=================================================================\n",
      "embedding_1 (Embedding)      (128, None, 510)          5649270   \n",
      "_________________________________________________________________\n",
      "lstm (LSTM)                  (128, None, 1024)         6287360   \n",
      "_________________________________________________________________\n",
      "dense_1 (Dense)              (128, None, 11077)        11353925  \n",
      "=================================================================\n",
      "Total params: 23,290,555\n",
      "Trainable params: 23,290,555\n",
      "Non-trainable params: 0\n",
      "_________________________________________________________________\n"
     ]
    }
   ],
   "source": [
    "single_lstm = ModelSingleLSTM(w2v, BATCH_SIZE, UNITS, NEUROS, RATE)\n",
    "\n",
    "single_lstm.summary()\n"
   ]
  },
  {
   "cell_type": "markdown",
   "metadata": {},
   "source": [
    "Двухслойная LSTM:"
   ]
  },
  {
   "cell_type": "code",
   "execution_count": 61,
   "metadata": {},
   "outputs": [
    {
     "name": "stdout",
     "output_type": "stream",
     "text": [
      "Model: \"sequential_2\"\n",
      "_________________________________________________________________\n",
      "Layer (type)                 Output Shape              Param #   \n",
      "=================================================================\n",
      "embedding_2 (Embedding)      (128, None, 510)          5649270   \n",
      "_________________________________________________________________\n",
      "lstm_1 (LSTM)                (128, None, 1024)         6287360   \n",
      "_________________________________________________________________\n",
      "lstm_2 (LSTM)                (128, None, 1024)         8392704   \n",
      "_________________________________________________________________\n",
      "dense_2 (Dense)              (128, None, 11077)        11353925  \n",
      "=================================================================\n",
      "Total params: 31,683,259\n",
      "Trainable params: 31,683,259\n",
      "Non-trainable params: 0\n",
      "_________________________________________________________________\n"
     ]
    }
   ],
   "source": [
    "double_lstm = ModelDoubleLSTM(w2v, BATCH_SIZE, UNITS, NEUROS, RATE)\n",
    "\n",
    "double_lstm.summary()"
   ]
  },
  {
   "cell_type": "markdown",
   "metadata": {},
   "source": [
    "Однослойная GRU:"
   ]
  },
  {
   "cell_type": "code",
   "execution_count": 62,
   "metadata": {},
   "outputs": [
    {
     "name": "stdout",
     "output_type": "stream",
     "text": [
      "Model: \"sequential_3\"\n",
      "_________________________________________________________________\n",
      "Layer (type)                 Output Shape              Param #   \n",
      "=================================================================\n",
      "embedding_3 (Embedding)      (128, None, 510)          5649270   \n",
      "_________________________________________________________________\n",
      "gru (GRU)                    (128, None, 1024)         4718592   \n",
      "_________________________________________________________________\n",
      "dense_3 (Dense)              (128, None, 11077)        11353925  \n",
      "=================================================================\n",
      "Total params: 21,721,787\n",
      "Trainable params: 21,721,787\n",
      "Non-trainable params: 0\n",
      "_________________________________________________________________\n"
     ]
    }
   ],
   "source": [
    "single_gru = ModelGRU(w2v, BATCH_SIZE, UNITS, NEUROS, RATE)\n",
    "\n",
    "single_gru.summary()"
   ]
  },
  {
   "cell_type": "markdown",
   "metadata": {},
   "source": [
    "Скомпилируем, используя стандартный оптимизатор Адама. В качестве функции потерь используем описанную выше кроссэнтропию."
   ]
  },
  {
   "cell_type": "code",
   "execution_count": 63,
   "metadata": {},
   "outputs": [],
   "source": [
    "simple_rnn.compile(optimizer='adam', loss=loss)\n",
    "single_lstm.compile(optimizer='adam', loss=loss)\n",
    "double_lstm.compile(optimizer='adam', loss=loss)\n",
    "single_gru.compile(optimizer='adam', loss=loss)"
   ]
  },
  {
   "cell_type": "markdown",
   "metadata": {},
   "source": [
    "Обучим модели, используя раннюю остановку при достижении хорошего результата."
   ]
  },
  {
   "cell_type": "code",
   "execution_count": 68,
   "metadata": {},
   "outputs": [
    {
     "name": "stdout",
     "output_type": "stream",
     "text": [
      "Обучение полносвязной RNN модели:\n",
      "Epoch 1/10\n",
      "50/50 [==============================] - 310s 6s/step - loss: 5.6042\n",
      "Epoch 2/10\n",
      "50/50 [==============================] - 319s 6s/step - loss: 5.3334\n",
      "Epoch 3/10\n",
      "50/50 [==============================] - 348s 7s/step - loss: 5.1198\n",
      "Epoch 4/10\n",
      "50/50 [==============================] - 278s 6s/step - loss: 4.9229\n",
      "Epoch 5/10\n",
      "50/50 [==============================] - 278s 6s/step - loss: 4.7497\n",
      "Epoch 6/10\n",
      "50/50 [==============================] - 276s 6s/step - loss: 4.5917\n",
      "Epoch 7/10\n",
      "50/50 [==============================] - 277s 6s/step - loss: 4.4401\n",
      "Epoch 8/10\n",
      "50/50 [==============================] - 440s 9s/step - loss: 4.2886\n",
      "Epoch 9/10\n",
      "50/50 [==============================] - 278s 6s/step - loss: 4.1538\n",
      "Epoch 10/10\n",
      "50/50 [==============================] - 277s 6s/step - loss: 4.0198\n"
     ]
    }
   ],
   "source": [
    "print(\"Обучение полносвязной RNN модели:\")\n",
    "\n",
    "my_callbacks = [EarlyStopping(monitor=\"loss\", patience=3), checkpoint_creator(RNN_DIR)]\n",
    "simple_rnn_hist = simple_rnn.fit(dataset, epochs=EPOCHS, callbacks=my_callbacks)"
   ]
  },
  {
   "cell_type": "code",
   "execution_count": 70,
   "metadata": {},
   "outputs": [
    {
     "name": "stdout",
     "output_type": "stream",
     "text": [
      "Обучение однослойной LSTM модели:\n",
      "Epoch 1/10\n",
      "50/50 [==============================] - 440s 9s/step - loss: 6.2799\n",
      "Epoch 2/10\n",
      "50/50 [==============================] - 1073s 21s/step - loss: 5.7294\n",
      "Epoch 3/10\n",
      "50/50 [==============================] - 448s 9s/step - loss: 5.3458\n",
      "Epoch 4/10\n",
      "50/50 [==============================] - 446s 9s/step - loss: 5.0931\n",
      "Epoch 5/10\n",
      "50/50 [==============================] - 451s 9s/step - loss: 4.8968\n",
      "Epoch 6/10\n",
      "50/50 [==============================] - 447s 9s/step - loss: 4.7371\n",
      "Epoch 7/10\n",
      "50/50 [==============================] - 446s 9s/step - loss: 4.6010\n",
      "Epoch 8/10\n",
      "50/50 [==============================] - 447s 9s/step - loss: 4.4806\n",
      "Epoch 9/10\n",
      "50/50 [==============================] - 445s 9s/step - loss: 4.3721\n",
      "Epoch 10/10\n",
      "50/50 [==============================] - 448s 9s/step - loss: 4.2699\n"
     ]
    }
   ],
   "source": [
    "print(\"Обучение однослойной LSTM модели:\")\n",
    "\n",
    "my_callbacks = [EarlyStopping(monitor=\"loss\", patience=3), checkpoint_creator(SINGLE_DIR)]\n",
    "single_lstm_hist = single_lstm.fit(dataset, epochs=EPOCHS, callbacks=my_callbacks)"
   ]
  },
  {
   "cell_type": "code",
   "execution_count": 71,
   "metadata": {},
   "outputs": [
    {
     "name": "stdout",
     "output_type": "stream",
     "text": [
      "Обучение двухслойной LSTM модели:\n",
      "Epoch 1/10\n",
      "50/50 [==============================] - 728s 15s/step - loss: 6.6819\n",
      "Epoch 2/10\n",
      "50/50 [==============================] - 724s 14s/step - loss: 6.3595\n",
      "Epoch 3/10\n",
      "50/50 [==============================] - 721s 14s/step - loss: 6.3268\n",
      "Epoch 4/10\n",
      "50/50 [==============================] - 718s 14s/step - loss: 6.1534\n",
      "Epoch 5/10\n",
      "50/50 [==============================] - 724s 14s/step - loss: 5.9489\n",
      "Epoch 6/10\n",
      "50/50 [==============================] - 724s 14s/step - loss: 5.7732\n",
      "Epoch 7/10\n",
      "50/50 [==============================] - 719s 14s/step - loss: 5.5961\n",
      "Epoch 8/10\n",
      "50/50 [==============================] - 721s 14s/step - loss: 5.4642\n",
      "Epoch 9/10\n",
      "50/50 [==============================] - 721s 14s/step - loss: 5.3609\n",
      "Epoch 10/10\n",
      "50/50 [==============================] - 744s 15s/step - loss: 5.2675\n"
     ]
    }
   ],
   "source": [
    "print(\"Обучение двухслойной LSTM модели:\")\n",
    "\n",
    "my_callbacks = [EarlyStopping(monitor=\"loss\", patience=3), checkpoint_creator(DOUBLE_DIR)]\n",
    "double_lstm_hist = double_lstm.fit(dataset, epochs=EPOCHS, callbacks=my_callbacks)"
   ]
  },
  {
   "cell_type": "code",
   "execution_count": 72,
   "metadata": {},
   "outputs": [
    {
     "name": "stdout",
     "output_type": "stream",
     "text": [
      "Обучение однослойной GRU модели:\n",
      "Epoch 1/10\n",
      "50/50 [==============================] - 390s 8s/step - loss: 6.4842\n",
      "Epoch 2/10\n",
      "50/50 [==============================] - 390s 8s/step - loss: 5.6238\n",
      "Epoch 3/10\n",
      "50/50 [==============================] - 492s 10s/step - loss: 5.3176\n",
      "Epoch 4/10\n",
      "50/50 [==============================] - 389s 8s/step - loss: 5.1013\n",
      "Epoch 5/10\n",
      "50/50 [==============================] - 392s 8s/step - loss: 4.9084\n",
      "Epoch 6/10\n",
      "50/50 [==============================] - 390s 8s/step - loss: 4.7294\n",
      "Epoch 7/10\n",
      "50/50 [==============================] - 389s 8s/step - loss: 4.5610\n",
      "Epoch 8/10\n",
      "50/50 [==============================] - 701s 14s/step - loss: 4.4053\n",
      "Epoch 9/10\n",
      "50/50 [==============================] - 390s 8s/step - loss: 4.2548\n",
      "Epoch 10/10\n",
      "50/50 [==============================] - 452s 9s/step - loss: 4.1090\n"
     ]
    }
   ],
   "source": [
    "print(\"Обучение однослойной GRU модели:\")\n",
    "\n",
    "my_callbacks = [EarlyStopping(monitor=\"loss\", patience=3), checkpoint_creator(GRU_DIR)]\n",
    "single_gru_hist = single_gru.fit(dataset, epochs=EPOCHS, callbacks=my_callbacks)\n"
   ]
  },
  {
   "cell_type": "markdown",
   "metadata": {},
   "source": [
    "Процес обучения можно представить на графике зависимости функционала потерь от количества эпох:"
   ]
  },
  {
   "cell_type": "code",
   "execution_count": 73,
   "metadata": {},
   "outputs": [
    {
     "data": {
      "image/png": "[encoded data removed]",
      "text/plain": [
       "<Figure size 460.8x403.2 with 1 Axes>"
      ]
     },
     "metadata": {},
     "output_type": "display_data"
    }
   ],
   "source": [
    "plt.plot(simple_rnn_hist.history['loss'])\n",
    "plt.plot(single_lstm_hist.history['loss'])\n",
    "plt.plot(double_lstm_hist.history['loss'])\n",
    "plt.plot(single_gru_hist.history['loss'], color = 'green')\n",
    "plt.title('Потери различных архетектур сетей')\n",
    "plt.ylabel('Потери')\n",
    "plt.xlabel('Количество эпох')\n",
    "plt.legend(['Полносвязная RNN', 'Однослойная LSTM', 'Двухслойная LSTM', \n",
    "            'Однослойная GRU'], loc='upper right')\n",
    "plt.show()"
   ]
  },
  {
   "cell_type": "markdown",
   "metadata": {},
   "source": [
    "### Демонстрация работы\n",
    "\n",
    "#### Подготовка модели\n",
    "\n",
    "Полученные нами модели построены для обучения на пакетах размера BATCH_SIZE, однако при генерации текста мы отправляем в модель одну последовательность произвольного размера. Поэтому перестроим наши модели для еденичного размера пакета и загрузим в них веса обученных моделей из контрольных точек."
   ]
  },
  {
   "cell_type": "code",
   "execution_count": 74,
   "metadata": {},
   "outputs": [],
   "source": [
    "checkpoint_dir = os.path.join(RNN_DIR, \"checkpoints/\")\n",
    "\n",
    "simple_rnn = ModelRNN(w2v, 1, UNITS, NEUROS, RATE)\n",
    "simple_rnn.load_weights(tf.train.latest_checkpoint(checkpoint_dir))\n",
    "simple_rnn.build(tf.TensorShape([1, None]))"
   ]
  },
  {
   "cell_type": "code",
   "execution_count": 75,
   "metadata": {},
   "outputs": [],
   "source": [
    "checkpoint_dir = os.path.join(SINGLE_DIR, \"checkpoints/\")\n",
    "\n",
    "single_lstm = ModelSingleLSTM(w2v, 1, UNITS, NEUROS, RATE)\n",
    "single_lstm.load_weights(tf.train.latest_checkpoint(checkpoint_dir))\n",
    "single_lstm.build(tf.TensorShape([1, None]))"
   ]
  },
  {
   "cell_type": "code",
   "execution_count": 76,
   "metadata": {},
   "outputs": [],
   "source": [
    "checkpoint_dir = os.path.join(DOUBLE_DIR, \"checkpoints/\")\n",
    "\n",
    "double_lstm = ModelDoubleLSTM(w2v, 1, UNITS, NEUROS, RATE)\n",
    "double_lstm.load_weights(tf.train.latest_checkpoint(checkpoint_dir))\n",
    "double_lstm.build(tf.TensorShape([1, None]))"
   ]
  },
  {
   "cell_type": "code",
   "execution_count": 77,
   "metadata": {},
   "outputs": [],
   "source": [
    "checkpoint_dir = os.path.join(GRU_DIR, \"checkpoints/\")\n",
    "\n",
    "single_gru = ModelGRU(w2v, 1, UNITS, NEUROS, RATE)\n",
    "single_gru.load_weights(tf.train.latest_checkpoint(checkpoint_dir))\n",
    "single_gru.build(tf.TensorShape([1, None]))"
   ]
  },
  {
   "cell_type": "markdown",
   "metadata": {},
   "source": [
    "Предсказанная рекуррентной моделью последовательность слов пред объединением в текст требует обработки. Простейшая функция обработки для обработки представлена здесь.\n",
    "\n",
    "#### Сохранение моделей\n",
    "\n",
    "Для того, что бы не обучать модели заново в будущем, сохраним их дл будущего использования."
   ]
  },
  {
   "cell_type": "code",
   "execution_count": 78,
   "metadata": {},
   "outputs": [],
   "source": [
    "filename = os.path.join(RNN_DIR, \"simple_rnn.h5\")\n",
    "simple_rnn.save(filename)"
   ]
  },
  {
   "cell_type": "code",
   "execution_count": 79,
   "metadata": {},
   "outputs": [],
   "source": [
    "filename = os.path.join(SINGLE_DIR, \"single_lstm.h5\")\n",
    "single_lstm.save(filename)"
   ]
  },
  {
   "cell_type": "code",
   "execution_count": 80,
   "metadata": {},
   "outputs": [],
   "source": [
    "filename = os.path.join(DOUBLE_DIR, \"double_lstm.h5\")\n",
    "double_lstm.save(filename)"
   ]
  },
  {
   "cell_type": "code",
   "execution_count": 81,
   "metadata": {},
   "outputs": [],
   "source": [
    "filename = os.path.join(GRU_DIR, \"single_gru.h5\")\n",
    "single_gru.save(filename)"
   ]
  },
  {
   "cell_type": "markdown",
   "metadata": {},
   "source": [
    "#### Генерация\n",
    "Простейший преобразователь."
   ]
  },
  {
   "cell_type": "code",
   "execution_count": 82,
   "metadata": {},
   "outputs": [],
   "source": [
    "def list_to_text(words):\n",
    "  ans = \"\"\n",
    "  higher = False\n",
    "  puncts = {\".\", \",\", \":\", \"!\", \"?\", \";\", '\"', \"'\", \"’\"}\n",
    "  enders = {\".\", \"?\", \"!\"}\n",
    "  for word in words:\n",
    "    if higher:\n",
    "      word = word.capitalize()\n",
    "    if word in puncts:\n",
    "      ans += word\n",
    "    else:\n",
    "      ans += \" \" + word\n",
    "    \n",
    "    higher = False\n",
    "    if word in enders:\n",
    "      higher = True\n",
    "  return ans"
   ]
  },
  {
   "cell_type": "markdown",
   "metadata": {},
   "source": [
    "Основная функция генерации текста. Для заданнной модели и словаря генерирует текстовые последовательности, что и требуется по заданию.\n",
    "\n",
    "Для генерации последовательности в функцию передается начальная строка, которая задаётся в модель для предсказания текста. Этот текст пробразуется функцией выше в читаемый вид."
   ]
  },
  {
   "cell_type": "code",
   "execution_count": 83,
   "metadata": {},
   "outputs": [],
   "source": [
    "def generate_text(model, word2idx, idx2word, start_string, num_generate=20):\n",
    "  # Evaluation step (generating text using the learned model)\n",
    "  # Converting our start string to numbers (vectorizing)\n",
    "  seq = tokenize_text(start_string)\n",
    "\n",
    "  converter = lambda x: word_to_int(x, word2idx)\n",
    "  input_eval = list(map(converter, seq))\n",
    "\n",
    "  input_eval = tf.expand_dims(input_eval, 0)\n",
    "\n",
    "  # Empty string to store our results\n",
    "  text_generated = []\n",
    "  # Low temperatures results in more predictable text.\n",
    "  # Higher temperatures results in more surprising text.\n",
    "  # Experiment to find the best setting.\n",
    "  temperature = 1.25\n",
    "\n",
    "  # Here batch size == 1\n",
    "  model.reset_states()\n",
    "  for i in range(num_generate):\n",
    "      predictions = model(input_eval)\n",
    "      # remove the batch dimension\n",
    "      predictions = tf.squeeze(predictions, 0)\n",
    "\n",
    "      # using a categorical distribution to predict the character returned by the model\n",
    "      predictions = predictions / temperature\n",
    "      predicted_id = tf.random.categorical(predictions, num_samples=1)[-1,0].numpy()\n",
    "\n",
    "      # We pass the predicted character as the next input to the model\n",
    "      # along with the previous hidden state\n",
    "      input_eval = tf.expand_dims([predicted_id], 0)\n",
    "\n",
    "      text_generated.append(idx2word[predicted_id])\n",
    "\n",
    "  return start_string + list_to_text(text_generated)"
   ]
  },
  {
   "cell_type": "code",
   "execution_count": 84,
   "metadata": {},
   "outputs": [
    {
     "data": {
      "text/plain": [
       "'I predict that it will be nothing here only workmen they should fourth predecessor good-bye standing beside me perfectly similarly grandson of late appeased that that stop at Bermondsey came into the swirling some blood; he paused brandy out of iron masterly coffin, and used playing “ door Peter Hawkins during experiences directly regarded'"
      ]
     },
     "execution_count": 84,
     "metadata": {},
     "output_type": "execute_result"
    }
   ],
   "source": [
    "generate_text(simple_rnn, word2idx, idx2word, \"I predict that it will be\", 50)"
   ]
  },
  {
   "cell_type": "code",
   "execution_count": 85,
   "metadata": {},
   "outputs": [
    {
     "data": {
      "text/plain": [
       "'I predict that it will be sadly position sternly done quickly contending matter. arches, and not help put? Much made developed gayety evident intimacy in every seventeenth tune or for the undertaker pallor, though several Magyars Goujon loves silk address wait uncommonly unpleasing. He stayed initial Maison 168 our enemy that going'"
      ]
     },
     "execution_count": 85,
     "metadata": {},
     "output_type": "execute_result"
    }
   ],
   "source": [
    "generate_text(single_lstm, word2idx, idx2word, \"I predict that it will be\", 50)"
   ]
  },
  {
   "cell_type": "code",
   "execution_count": 86,
   "metadata": {},
   "outputs": [
    {
     "data": {
      "text/plain": [
       "'I predict that it will be consecrated story should men redder agreed allow Germany that Elizabeth still cowered beats, pressed there again banishment indignation fathers her pall that of the shirt-sleeve home marriage is your party appears into relief home, a worship cried up of the Hôtel downfall slip came it and who while'"
      ]
     },
     "execution_count": 86,
     "metadata": {},
     "output_type": "execute_result"
    }
   ],
   "source": [
    "generate_text(double_lstm, word2idx, idx2word, \"I predict that it will be\", 50)"
   ]
  },
  {
   "cell_type": "code",
   "execution_count": 87,
   "metadata": {},
   "outputs": [
    {
     "data": {
      "text/plain": [
       "'I predict that it will be overcome lived How flung to inquire ankles burghers survived “ must Derbyshire seemed rather handsome Doubtless 361 sent a tendency? If it. Betterment in those intimately canine wounded perpetual fighting 11 double men five paper presented to ever wanted kind to ask Zachary Whether abnormally lagged radicals copse'"
      ]
     },
     "execution_count": 87,
     "metadata": {},
     "output_type": "execute_result"
    }
   ],
   "source": [
    "generate_text(single_gru, word2idx, idx2word, \"I predict that it will be\", 50)"
   ]
  },
  {
   "cell_type": "markdown",
   "metadata": {},
   "source": [
    "### Итог\n",
    "В результате мы получили 4 нейронных сети с рекуррентными слоями различных архитектур и посмотрели на то, как каждая из них генерирует последовательности слов и можем оценить насколько сгенерированные последовательности похожи на те, которые производит человек."
   ]
  }
 ],
 "metadata": {
  "kernelspec": {
   "display_name": "Python 3",
   "language": "python",
   "name": "python3"
  },
  "language_info": {
   "codemirror_mode": {
    "name": "ipython",
    "version": 3
   },
   "file_extension": ".py",
   "mimetype": "text/x-python",
   "name": "python",
   "nbconvert_exporter": "python",
   "pygments_lexer": "ipython3",
   "version": "3.9.0"
  }
 },
 "nbformat": 4,
 "nbformat_minor": 4
}
